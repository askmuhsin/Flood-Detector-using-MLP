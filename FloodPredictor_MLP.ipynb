{
 "cells": [
  {
   "cell_type": "code",
   "execution_count": 102,
   "metadata": {},
   "outputs": [],
   "source": [
    "import numpy as np\n",
    "import matplotlib.pyplot as plt\n",
    "from scipy import optimize"
   ]
  },
  {
   "cell_type": "code",
   "execution_count": 103,
   "metadata": {
    "collapsed": true
   },
   "outputs": [],
   "source": [
    "#Training data INPUT 10 pair of Rainfall and Water flow historic data\n",
    "#Training data OUTPUT corresponding water level data\n",
    "\n",
    "I = np.array(([39,13.58],[33,13.33],[82,13.47],[39,13.58],[41,13.67],[8,13.71],[58,13.76],[11,13.84],[37,13.92],[14,14.04]), dtype=float)\n",
    "O = np.array(([54],[75],[55],[54],[59],[25],[34],[51],[40],[56]), dtype=float)\n",
    "\n",
    "#normalizing values\n",
    "I = I/np.amax(I, axis=0)\n",
    "O = O/100"
   ]
  },
  {
   "cell_type": "code",
   "execution_count": 104,
   "metadata": {
    "collapsed": true
   },
   "outputs": [],
   "source": [
    "class MLP_main(object):\n",
    "    def __init__(self):\n",
    "        #Definining HyperParameters\n",
    "        self.inputLayerSize = 2\n",
    "        self.outputLayerSize = 1\n",
    "        self.hiddenLayerSize = 3\n",
    "        \n",
    "        #Defining random weights\n",
    "        self.W1 = np.random.randn(self.inputLayerSize, self.hiddenLayerSize)\n",
    "        self.W2 = np.random.randn(self.hiddenLayerSize, self.outputLayerSize)\n",
    "        \n",
    "        #print (self.W1, self.W2)\n",
    "        \n",
    "    def forward(self, I):\n",
    "        #Propagate inputs through network\n",
    "        self.z2 = np.dot(I, self.W1)\n",
    "        self.a2 = self.sigmoid(self.z2)\n",
    "        self.z3 = np.dot(self.a2, self.W2)\n",
    "        yHat = self.sigmoid(self.z3)\n",
    "        return yHat\n",
    "    \n",
    "    def sigmoid(self, z):\n",
    "        #Sigmoid Activation function\n",
    "        return 1/(1+np.exp(-z))\n",
    "    \n",
    "    def sigmoidPrime(self, z):\n",
    "        #Derivative of Sigmoid Function\n",
    "        return np.exp(-z)/((1+np.exp(-z))**2)\n",
    "    \n",
    "    def costFunction(self, I, O):\n",
    "        #Compute cost for given I,O using weights already stored in class.\n",
    "        self.yHat = self.forward(I)\n",
    "        J = 0.5*sum((O-self.yHat)**2)\n",
    "        return J\n",
    "    \n",
    "    def costFunctionPrime (self, I, O):\n",
    "        #compute derivative with respect to W1 and W2\n",
    "        self.yHat = self.forward(I)\n",
    "        \n",
    "        delta3 = np.multiply(-(O-self.yHat),self.sigmoidPrime(self.z3))\n",
    "        dJdW2 = np.dot(self.a2.T, delta3)\n",
    "\n",
    "        delta2 = np.dot(delta3, self.W2.T)*self.sigmoidPrime(self.z2)\n",
    "        dJdW1 = np.dot(I.T, delta2)\n",
    "        \n",
    "        return dJdW1, dJdW2\n",
    "    \n",
    "    \n",
    "    #Helper Functions for interacting with other classes:\n",
    "    def getParams(self):\n",
    "        #Get W1 and W2 unrolled into vector:\n",
    "        params = np.concatenate((self.W1.ravel(), self.W2.ravel()))\n",
    "        return params\n",
    "    \n",
    "    def setParams(self, params):\n",
    "        #Set W1 and W2 using single paramater vector.\n",
    "        W1_start = 0\n",
    "        W1_end = self.hiddenLayerSize * self.inputLayerSize\n",
    "        self.W1 = np.reshape(params[W1_start:W1_end], (self.inputLayerSize , self.hiddenLayerSize))\n",
    "        W2_end = W1_end + self.hiddenLayerSize*self.outputLayerSize\n",
    "        self.W2 = np.reshape(params[W1_end:W2_end], (self.hiddenLayerSize, self.outputLayerSize))\n",
    "        \n",
    "    def computeGradients(self, I, O):\n",
    "        dJdW1, dJdW2 = self.costFunctionPrime(I,O)\n",
    "        return np.concatenate((dJdW1.ravel(), dJdW2.ravel()))\n",
    "        \n",
    "        \n",
    "    def computeNumericalGradient(self, I, O):\n",
    "        paramsInitial = self.getParams()\n",
    "        numgrad = np.zeros(paramsInitial.shape)\n",
    "        perturb = np.zeros(paramsInitial.shape)\n",
    "        e = 1e-4\n",
    "\n",
    "        for p in range(len(paramsInitial)):\n",
    "            #Set perturbation vector\n",
    "            perturb[p] = e\n",
    "            self.setParams(paramsInitial + perturb)\n",
    "            loss2 = self.costFunction(I, O)\n",
    "            \n",
    "            self.setParams(paramsInitial - perturb)\n",
    "            loss1 = self.costFunction(I, O)\n",
    "\n",
    "            #Compute Numerical Gradient\n",
    "            numgrad[p] = (loss2 - loss1) / (2*e)\n",
    "\n",
    "            #Return the value we changed to zero:\n",
    "            perturb[p] = 0\n",
    "            \n",
    "        #Return Params to original value:\n",
    "        self.setParams(paramsInitial)\n",
    "\n",
    "        return numgrad"
   ]
  },
  {
   "cell_type": "code",
   "execution_count": 105,
   "metadata": {
    "collapsed": true
   },
   "outputs": [],
   "source": [
    "class trainer(object):\n",
    "    def __init__(self, M):\n",
    "        #Making local reference to MLP:\n",
    "        self.M = M\n",
    "        \n",
    "    def callbackF(self, params):\n",
    "        #to see cost function value as being trained\n",
    "        self.M.setParams(params)\n",
    "        self.J.append(self.M.costFunction(self.I, self.O))\n",
    " \n",
    "        \n",
    "    def costFunctionWrapper(self, params, I, O):\n",
    "        #Wrapper function to setup obj fn\n",
    "        self.M.setParams(params)\n",
    "        cost = self.M.costFunction(I, O)\n",
    "        grad = self.M.computeGradients(I, O)\n",
    "        return cost, grad\n",
    "           \n",
    "        \n",
    "    def train(self, I, O):\n",
    "        #make internal variables for callback function:\n",
    "        self.I = I\n",
    "        self.O = O\n",
    "        \n",
    "        #Make empty list to store costs:\n",
    "        self.J =[]\n",
    "        \n",
    "        params0 = self.M.getParams()\n",
    "        \n",
    "        #Defining BFGS (Broyden–Fletcher–Goldfarb–Shanno Algorithm) to find optimal weights\n",
    "        #maximum iteration is set to 500\n",
    "        options = {'maxiter' : 500, 'disp' : True}\n",
    "        _res = optimize.minimize(self.costFunctionWrapper,\n",
    "                                 params0, jac = True, \n",
    "                                 method='BFGS', \n",
    "                                 args = (I, O), \n",
    "                                 options=options, \n",
    "                                 callback=self.callbackF)\n",
    "        \n",
    "        self.M.setParams(_res.x)\n",
    "        self.optimizationResults = _res"
   ]
  },
  {
   "cell_type": "code",
   "execution_count": 106,
   "metadata": {
    "collapsed": true
   },
   "outputs": [],
   "source": [
    "MLP = MLP_main()"
   ]
  },
  {
   "cell_type": "code",
   "execution_count": 107,
   "metadata": {},
   "outputs": [],
   "source": [
    "T = trainer(MLP)"
   ]
  },
  {
   "cell_type": "code",
   "execution_count": 108,
   "metadata": {
    "scrolled": true
   },
   "outputs": [
    {
     "name": "stdout",
     "output_type": "stream",
     "text": [
      "Optimization terminated successfully.\n",
      "         Current function value: 0.005473\n",
      "         Iterations: 153\n",
      "         Function evaluations: 180\n",
      "         Gradient evaluations: 180\n"
     ]
    }
   ],
   "source": [
    "T.train(I,O)"
   ]
  },
  {
   "cell_type": "code",
   "execution_count": 109,
   "metadata": {
    "scrolled": true
   },
   "outputs": [
    {
     "data": {
      "image/png": "[encoded data removed]",
      "text/plain": [
       "<matplotlib.figure.Figure at 0x7fd8f31f0160>"
      ]
     },
     "metadata": {},
     "output_type": "display_data"
    }
   ],
   "source": [
    "#ploting cost vs epoch\n",
    "plt.plot(T.J)\n",
    "plt.grid(1)\n",
    "plt.ylabel('Cost')\n",
    "plt.xlabel('Epoch')\n",
    "plt.show()"
   ]
  },
  {
   "cell_type": "code",
   "execution_count": 110,
   "metadata": {},
   "outputs": [
    {
     "name": "stdout",
     "output_type": "stream",
     "text": [
      "Desired Flood Level :  [[ 54.  75.  55.  54.  59.  25.  34.  51.  40.  56.]]\n",
      "Actual Flood Level  :  [[ 58.  73.  55.  58.  52.  25.  33.  53.  44.  53.]]\n"
     ]
    }
   ],
   "source": [
    "Output_after_training = MLP.forward(I)\n",
    "Output_after_training = np.round(Output_after_training,2)\n",
    "#printing Desired Output and Actual Output after training :\n",
    "print(\"Desired Flood Level : \", np.matrix.transpose(O) * 100)\n",
    "print(\"Actual Flood Level  : \", np.matrix.transpose(Output_after_training)*100)"
   ]
  },
  {
   "cell_type": "code",
   "execution_count": null,
   "metadata": {
    "collapsed": true
   },
   "outputs": [],
   "source": []
  }
 ],
 "metadata": {
  "kernelspec": {
   "display_name": "Python 3",
   "language": "python",
   "name": "python3"
  },
  "language_info": {
   "codemirror_mode": {
    "name": "ipython",
    "version": 3
   },
   "file_extension": ".py",
   "mimetype": "text/x-python",
   "name": "python",
   "nbconvert_exporter": "python",
   "pygments_lexer": "ipython3",
   "version": "3.5.2"
  },
  "widgets": {
   "state": {},
   "version": "1.1.2"
  }
 },
 "nbformat": 4,
 "nbformat_minor": 2
}
